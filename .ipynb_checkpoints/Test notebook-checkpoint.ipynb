{
 "cells": [
  {
   "cell_type": "code",
   "execution_count": 1,
   "id": "6d5116c3",
   "metadata": {},
   "outputs": [],
   "source": [
    "# src/task1.py\n",
    "import requests\n",
    "#keyword based search, api retrieves top news listing for the keyword\n",
    "def fetch_top_news(api_key, city):\n",
    "    url = f'https://newsapi.org/v2/everything?q={city}&sortBy=popularity&apiKey={api_key}&pageSize=5'\n",
    "    \n",
    "    try:\n",
    "        response = requests.get(url)\n",
    "        response.raise_for_status()  # Check for HTTP errors\n",
    "        data = response.json()\n",
    "        print(f\"Top 5 headlines in {city}:\")\n",
    "        for i, article in enumerate(data['articles'][:5], 1):\n",
    "            print(f\"{i}. {article['title']} - {article['publishedAt']}\")\n",
    "\n",
    "    except requests.exceptions.RequestException as e:\n",
    "        print(f\"Error fetching data: {e}\")"
   ]
  },
  {
   "cell_type": "code",
   "execution_count": 2,
   "id": "72943b06",
   "metadata": {
    "scrolled": true
   },
   "outputs": [
    {
     "name": "stdout",
     "output_type": "stream",
     "text": [
      "Banglore\n",
      "Top 5 headlines in Banglore:\n",
      "1. Semiconductor Market Size Projected to Reach USD 1,883.7 Billion By 2032 - 2023-12-12T16:14:00Z\n",
      "2. Delhi: Twenty trains running late due to fog - 2024-01-08T04:57:18Z\n",
      "3. Share Market Highlights 13 December 2023: Sensex, Nifty end marginally higher; IT stocks drag - 2023-12-13T01:33:49Z\n",
      "4. Army Boys Sports Company to hold selection trials for sports cadet in Banglore - 2023-12-15T13:27:00Z\n"
     ]
    }
   ],
   "source": [
    "api_key = \"98cc3161205342ab97d8d47141674c32\"\n",
    "city_name = input()\n",
    "fetch_top_news(api_key, city_name)"
   ]
  },
  {
   "cell_type": "code",
   "execution_count": null,
   "id": "0753c20f",
   "metadata": {},
   "outputs": [],
   "source": [
    "# src/task2.py\n",
    "import praw\n",
    "import json\n",
    "import sqlite3\n",
    "import time\n",
    "\n",
    "def authenticate_reddit():\n",
    "    # Load Reddit API credentials from the configuration file\n",
    "    with open('data/reddit_credentials.json', 'r') as config_file:\n",
    "        reddit_credentials = json.load(config_file)\n",
    "\n",
    "    # Authenticate with Reddit API\n",
    "    reddit = praw.Reddit(\n",
    "        client_id=reddit_credentials['client_id'],\n",
    "        client_secret=reddit_credentials['client_secret'],\n",
    "        username=reddit_credentials['username'],\n",
    "        password=reddit_credentials['password'],\n",
    "        user_agent='MyRedditScraper'\n",
    "    )\n",
    "    return reddit\n",
    "\n",
    "def create_database():\n",
    "    # Create SQLite database and table\n",
    "    conn = sqlite3.connect('data/reddit_discussions.db')\n",
    "    cursor = conn.cursor()\n",
    "\n",
    "    cursor.execute('''\n",
    "        CREATE TABLE IF NOT EXISTS reddit_discussions (\n",
    "            id INTEGER PRIMARY KEY AUTOINCREMENT,\n",
    "            topic TEXT,\n",
    "            title TEXT,\n",
    "            url TEXT,\n",
    "            created_utc INTEGER\n",
    "        )\n",
    "    ''')\n",
    "\n",
    "    conn.commit()\n",
    "    conn.close()\n",
    "\n",
    "def fetch_and_store_relevant_discussions(reddit, topic):\n",
    "    try:\n",
    "        # Search for relevant discussions on Reddit\n",
    "        discussions = reddit.subreddit('all').search(topic, sort='relevance', time_filter='week', limit=5)\n",
    "\n",
    "        # Store discussions in the SQLite database\n",
    "        conn = sqlite3.connect('data/reddit_discussions.db')\n",
    "        cursor = conn.cursor()\n",
    "\n",
    "        for submission in discussions:\n",
    "            cursor.execute('''\n",
    "                INSERT INTO reddit_discussions (topic, title, url, created_utc)\n",
    "                VALUES (?, ?, ?, ?)\n",
    "            ''', (topic, submission.title, submission.url, int(submission.created_utc)))\n",
    "\n",
    "        conn.commit()\n",
    "        conn.close()\n",
    "\n",
    "        # Display the relevant discussions\n",
    "        print(f\"Relevant discussions on Reddit for '{topic}' have been stored in the database.\")\n",
    "\n",
    "    except Exception as e:\n",
    "        print(f\"Error fetching and storing Reddit discussions: {e}\")\n",
    "\n",
    "if __name__ == \"__main__\":\n",
    "    reddit_api = authenticate_reddit()\n",
    "    create_database()\n",
    "    topic_name = input(\"Enter the topic for Reddit discussions: \")\n",
    "    fetch_and_store_relevant_discussions(reddit_api, topic_name)\n"
   ]
  },
  {
   "cell_type": "code",
   "execution_count": null,
   "id": "177742ed",
   "metadata": {},
   "outputs": [],
   "source": []
  }
 ],
 "metadata": {
  "kernelspec": {
   "display_name": "Python 3 (ipykernel)",
   "language": "python",
   "name": "python3"
  },
  "language_info": {
   "codemirror_mode": {
    "name": "ipython",
    "version": 3
   },
   "file_extension": ".py",
   "mimetype": "text/x-python",
   "name": "python",
   "nbconvert_exporter": "python",
   "pygments_lexer": "ipython3",
   "version": "3.11.3"
  }
 },
 "nbformat": 4,
 "nbformat_minor": 5
}
